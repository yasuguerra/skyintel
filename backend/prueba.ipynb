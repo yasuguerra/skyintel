{
 "cells": [
  {
   "cell_type": "code",
   "execution_count": 1,
   "id": "233ec0e1",
   "metadata": {},
   "outputs": [
    {
     "name": "stdout",
     "output_type": "stream",
     "text": [
      "Please visit this URL to authorize this application: https://accounts.google.com/o/oauth2/auth?response_type=code&client_id=128946837205-rqn5vp1quf8fdnh82joqrqpg7lvu35eo.apps.googleusercontent.com&redirect_uri=http%3A%2F%2Flocalhost%3A53724%2F&scope=https%3A%2F%2Fwww.googleapis.com%2Fauth%2Fadwords&state=gWsAKEc3cobBjBGNLMzcTYpMmgAqDC&access_type=offline\n",
      "🔑 REFRESH_TOKEN = 1//01DuqWw5NzfrNCgYIARAAGAESNwF-L9IrWSJFwQ8QxWPG-tTITYsOYT5-e_bVKuNlDhnlalrFJulCWJE6kK8eCchoh25_Nq0npww\n"
     ]
    }
   ],
   "source": [
    "from google_auth_oauthlib.flow import InstalledAppFlow\n",
    "\n",
    "SCOPES = [\"https://www.googleapis.com/auth/adwords\"]\n",
    "\n",
    "flow = InstalledAppFlow.from_client_secrets_file(\n",
    "    \"google_auth.json\",          # ← ruta a tu JSON Desktop\n",
    "    scopes=SCOPES,\n",
    ")\n",
    "\n",
    "# Con google-auth-oauthlib ≥ 1.0.0 tienes ambas opciones:\n",
    "try:\n",
    "    creds = flow.run_console()        # texto con URL + código\n",
    "except AttributeError:\n",
    "    creds = flow.run_local_server(port=0)  # abre navegador auto\n",
    "\n",
    "print(\"🔑 REFRESH_TOKEN =\", creds.refresh_token)\n"
   ]
  },
  {
   "cell_type": "code",
   "execution_count": null,
   "id": "5efb5f5c",
   "metadata": {},
   "outputs": [
    {
     "name": "stdout",
     "output_type": "stream",
     "text": [
      "✅ Autenticado. CustomerID: 4487812172\n"
     ]
    }
   ],
   "source": [
    "from pathlib import Path\n",
    "from google_ads_api import load_client\n",
    "\n",
    "yaml_path = Path.cwd() / \"google-ads.yaml\"\n",
    "client = load_client(str(yaml_path))\n",
    "print(\"✅ Autenticado. CustomerID:\", client.login_customer_id)\n"
   ]
  },
  {
   "cell_type": "code",
   "execution_count": null,
   "id": "d43347be",
   "metadata": {},
   "outputs": [
    {
     "ename": "ImportError",
     "evalue": "cannot import name 'load_client_safe' from 'google_ads_api' (c:\\Users\\yasu3\\Documents\\SkyIntel Dashboard - Gemini - Modular2\\google_ads_api.py)",
     "output_type": "error",
     "traceback": [
      "\u001b[31m---------------------------------------------------------------------------\u001b[39m",
      "\u001b[31mImportError\u001b[39m                               Traceback (most recent call last)",
      "\u001b[36mCell\u001b[39m\u001b[36m \u001b[39m\u001b[32mIn[7]\u001b[39m\u001b[32m, line 1\u001b[39m\n\u001b[32m----> \u001b[39m\u001b[32m1\u001b[39m \u001b[38;5;28;01mfrom\u001b[39;00m\u001b[38;5;250m \u001b[39m\u001b[34;01mgoogle_ads_api\u001b[39;00m\u001b[38;5;250m \u001b[39m\u001b[38;5;28;01mimport\u001b[39;00m load_client_safe\n\u001b[32m      2\u001b[39m client = load_client_safe(\u001b[33m\"\u001b[39m\u001b[33mgoogle-ads.yaml\u001b[39m\u001b[33m\"\u001b[39m)\n\u001b[32m      3\u001b[39m \u001b[38;5;28mprint\u001b[39m(\u001b[33m\"\u001b[39m\u001b[33mlogin_customer_id:\u001b[39m\u001b[33m\"\u001b[39m, client.login_customer_id)   \u001b[38;5;66;03m# Puede ser None\u001b[39;00m\n",
      "\u001b[31mImportError\u001b[39m: cannot import name 'load_client_safe' from 'google_ads_api' (c:\\Users\\yasu3\\Documents\\SkyIntel Dashboard - Gemini - Modular2\\google_ads_api.py)"
     ]
    }
   ],
   "source": [
    "from google_ads_api import load_client_safe\n",
    "client = load_client_safe(\"google-ads.yaml\")\n",
    "print(\"login_customer_id:\", client.login_customer_id)   # Puede ser None\n",
    "print(\"Env CUSTOMER_ID  :\", os.getenv(\"GOOGLE_ADS_CUSTOMER_ID\"))\n"
   ]
  }
 ],
 "metadata": {
  "kernelspec": {
   "display_name": "Python 3",
   "language": "python",
   "name": "python3"
  },
  "language_info": {
   "codemirror_mode": {
    "name": "ipython",
    "version": 3
   },
   "file_extension": ".py",
   "mimetype": "text/x-python",
   "name": "python",
   "nbconvert_exporter": "python",
   "pygments_lexer": "ipython3",
   "version": "3.12.10"
  }
 },
 "nbformat": 4,
 "nbformat_minor": 5
}
